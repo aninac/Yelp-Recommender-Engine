{
 "cells": [
  {
   "cell_type": "markdown",
   "metadata": {},
   "source": [
    "<h1><font color='blue'>YELP DATA WRANGLING</font></h1>"
   ]
  },
  {
   "cell_type": "code",
   "execution_count": 1,
   "metadata": {},
   "outputs": [],
   "source": [
    "import numpy as np\n",
    "import pandas as pd\n",
    "import json\n",
    "import credential_psql as creds\n",
    "import pandas.io.sql as psql\n",
    "import matplotlib.pyplot as plt\n",
    "import seaborn as sns"
   ]
  },
  {
   "cell_type": "markdown",
   "metadata": {},
   "source": [
    "<h3><font color='blue'>Load json Files into DataFrame</font></h3>\n",
    "<p>In this section each of the 6 json files are placed into DataFrames and then exported to .csv files that will be used to load into a PostgreSQL database in order to more efficiently filter the data.</p>"
   ]
  },
  {
   "cell_type": "code",
   "execution_count": 2,
   "metadata": {},
   "outputs": [],
   "source": [
    "def read_json_file(filename):\n",
    "    '''Read json file in chunks and add to a list'''\n",
    "    global data\n",
    "    data = []\n",
    "    for chunk in pd.read_json(filename, lines=True, chunksize=250000):\n",
    "        if filename == 'business.json':\n",
    "            chunk = chunk.drop('attributes', axis=1)\n",
    "        if filename == 'review.json':\n",
    "            chunk = chunk.drop('text', axis=1)\n",
    "        data.append(chunk)"
   ]
  },
  {
   "cell_type": "code",
   "execution_count": 3,
   "metadata": {},
   "outputs": [],
   "source": [
    "def convert_to_df(range_value, data_source):\n",
    "    '''Convert the list from the json files into a pandas DataFrame'''\n",
    "    global output_df \n",
    "    output_df = pd.DataFrame()\n",
    "    for i in range(range_value):\n",
    "        output_df = output_df.append(data_source[i])   "
   ]
  },
  {
   "cell_type": "code",
   "execution_count": 4,
   "metadata": {},
   "outputs": [],
   "source": [
    "# read in json file, create business DataFrame and export to csv file\n",
    "read_json_file('business.json')\n",
    "business_data = data\n",
    "convert_to_df(len(business_data), business_data)\n",
    "business_data = output_df\n",
    "#business_data.to_csv('business_filtered.csv', sep='|')\n",
    "\n",
    "# read in json file, create checkin DataFrame and export to csv file\n",
    "read_json_file('checkin.json')\n",
    "checkin_data = data\n",
    "convert_to_df(len(checkin_data), checkin_data)\n",
    "checkin_data = output_df\n",
    "#checkin_data.to_csv('checkin.csv', sep='|')\n",
    "\n",
    "# read in json file, create photo DataFrame and export to csv file\n",
    "read_json_file('photo.json')\n",
    "photo_data = data\n",
    "convert_to_df(len(photo_data), photo_data)\n",
    "photo_data = output_df\n",
    "#photo_data.to_csv('photo.csv', sep='|')\n",
    "\n",
    "# read in json file, create review DataFrame and export to csv file\n",
    "read_json_file('review.json')\n",
    "review_data = data\n",
    "convert_to_df(len(review_data), review_data)\n",
    "review_data = output_df\n",
    "#review_data.to_csv('review_filtered.csv', sep='|')\n",
    "\n",
    "# read in json file, create tip DataFrame and export to csv file\n",
    "read_json_file('tip.json')\n",
    "tip_data = data\n",
    "convert_to_df(len(tip_data), tip_data)\n",
    "tip_data = output_df\n",
    "#tip_data.to_csv('tip.csv', sep='|')\n",
    "\n",
    "# read in json file, create user DataFrame and export to csv fiee\n",
    "read_json_file('user.json')\n",
    "user_data = data\n",
    "convert_to_df(len(user_data), user_data)\n",
    "user_data = output_df\n",
    "#user_data.to_csv('user.csv', sep='|')"
   ]
  },
  {
   "cell_type": "code",
   "execution_count": 5,
   "metadata": {},
   "outputs": [
    {
     "name": "stdout",
     "output_type": "stream",
     "text": [
      "192,609 records in business.json file\n",
      "161,950 records in checkin.json file\n",
      "200,000 records in photo.json file\n",
      "6,685,900 records in review.json file\n",
      "1,223,094 records in tip.json file\n",
      "1,637,138 records in user.json file\n"
     ]
    }
   ],
   "source": [
    "# Number of records into each json data file.\n",
    "print(\"{:,}\".format(len(business_data)), 'records in business.json file')\n",
    "print(\"{:,}\".format(len(checkin_data)), 'records in checkin.json file')\n",
    "print(\"{:,}\".format(len(photo_data)), 'records in photo.json file')\n",
    "print(\"{:,}\".format(len(review_data)), 'records in review.json file')\n",
    "print(\"{:,}\".format(len(tip_data)), 'records in tip.json file')\n",
    "print(\"{:,}\".format(len(user_data)), 'records in user.json file')"
   ]
  },
  {
   "cell_type": "markdown",
   "metadata": {},
   "source": [
    "<h3><font color='blue'>Explore Business Data</font></h3>\n",
    "<p>Basic exploration of the data in the business.json file.</p>"
   ]
  },
  {
   "cell_type": "code",
   "execution_count": 6,
   "metadata": {},
   "outputs": [
    {
     "data": {
      "text/html": [
       "<div>\n",
       "<style scoped>\n",
       "    .dataframe tbody tr th:only-of-type {\n",
       "        vertical-align: middle;\n",
       "    }\n",
       "\n",
       "    .dataframe tbody tr th {\n",
       "        vertical-align: top;\n",
       "    }\n",
       "\n",
       "    .dataframe thead th {\n",
       "        text-align: right;\n",
       "    }\n",
       "</style>\n",
       "<table border=\"1\" class=\"dataframe\">\n",
       "  <thead>\n",
       "    <tr style=\"text-align: right;\">\n",
       "      <th></th>\n",
       "      <th>business_id</th>\n",
       "      <th>name</th>\n",
       "      <th>address</th>\n",
       "      <th>city</th>\n",
       "      <th>state</th>\n",
       "      <th>postal_code</th>\n",
       "      <th>latitude</th>\n",
       "      <th>longitude</th>\n",
       "      <th>stars</th>\n",
       "      <th>review_count</th>\n",
       "      <th>is_open</th>\n",
       "      <th>categories</th>\n",
       "      <th>hours</th>\n",
       "    </tr>\n",
       "  </thead>\n",
       "  <tbody>\n",
       "    <tr>\n",
       "      <td>0</td>\n",
       "      <td>1SWheh84yJXfytovILXOAQ</td>\n",
       "      <td>Arizona Biltmore Golf Club</td>\n",
       "      <td>2818 E Camino Acequia Drive</td>\n",
       "      <td>Phoenix</td>\n",
       "      <td>AZ</td>\n",
       "      <td>85016</td>\n",
       "      <td>33.522143</td>\n",
       "      <td>-112.018481</td>\n",
       "      <td>3.0</td>\n",
       "      <td>5</td>\n",
       "      <td>0</td>\n",
       "      <td>Golf, Active Life</td>\n",
       "      <td>None</td>\n",
       "    </tr>\n",
       "    <tr>\n",
       "      <td>1</td>\n",
       "      <td>QXAEGFB4oINsVuTFxEYKFQ</td>\n",
       "      <td>Emerald Chinese Restaurant</td>\n",
       "      <td>30 Eglinton Avenue W</td>\n",
       "      <td>Mississauga</td>\n",
       "      <td>ON</td>\n",
       "      <td>L5R 3E7</td>\n",
       "      <td>43.605499</td>\n",
       "      <td>-79.652289</td>\n",
       "      <td>2.5</td>\n",
       "      <td>128</td>\n",
       "      <td>1</td>\n",
       "      <td>Specialty Food, Restaurants, Dim Sum, Imported...</td>\n",
       "      <td>{'Monday': '9:0-0:0', 'Tuesday': '9:0-0:0', 'W...</td>\n",
       "    </tr>\n",
       "  </tbody>\n",
       "</table>\n",
       "</div>"
      ],
      "text/plain": [
       "              business_id                        name  \\\n",
       "0  1SWheh84yJXfytovILXOAQ  Arizona Biltmore Golf Club   \n",
       "1  QXAEGFB4oINsVuTFxEYKFQ  Emerald Chinese Restaurant   \n",
       "\n",
       "                       address         city state postal_code   latitude  \\\n",
       "0  2818 E Camino Acequia Drive      Phoenix    AZ       85016  33.522143   \n",
       "1         30 Eglinton Avenue W  Mississauga    ON     L5R 3E7  43.605499   \n",
       "\n",
       "    longitude  stars  review_count  is_open  \\\n",
       "0 -112.018481    3.0             5        0   \n",
       "1  -79.652289    2.5           128        1   \n",
       "\n",
       "                                          categories  \\\n",
       "0                                  Golf, Active Life   \n",
       "1  Specialty Food, Restaurants, Dim Sum, Imported...   \n",
       "\n",
       "                                               hours  \n",
       "0                                               None  \n",
       "1  {'Monday': '9:0-0:0', 'Tuesday': '9:0-0:0', 'W...  "
      ]
     },
     "execution_count": 6,
     "metadata": {},
     "output_type": "execute_result"
    }
   ],
   "source": [
    "business_data.head(2)"
   ]
  },
  {
   "cell_type": "code",
   "execution_count": 7,
   "metadata": {
    "scrolled": true
   },
   "outputs": [
    {
     "name": "stdout",
     "output_type": "stream",
     "text": [
      "36 unique states in dataset\n"
     ]
    },
    {
     "data": {
      "image/png": "[encoded data removed]",
      "text/plain": [
       "<Figure size 432x288 with 1 Axes>"
      ]
     },
     "metadata": {
      "needs_background": "light"
     },
     "output_type": "display_data"
    }
   ],
   "source": [
    "# Find top 10 states with Yelp reviews in this data set\n",
    "print(business_data['state'].nunique(), 'unique states in dataset')\n",
    "subset = pd.DataFrame(business_data['state'].value_counts().head(5))\n",
    "_ = sns.barplot(x=subset.index, y='state', data=subset, color='royalblue')\n",
    "_ = plt.xlabel('state')\n",
    "_ = plt.ylabel('review count')\n",
    "_ = plt.title('Top Five States By Review Count')"
   ]
  },
  {
   "cell_type": "code",
   "execution_count": 8,
   "metadata": {
    "scrolled": true
   },
   "outputs": [
    {
     "data": {
      "image/png": "[encoded data removed]",
      "text/plain": [
       "<Figure size 432x288 with 1 Axes>"
      ]
     },
     "metadata": {
      "needs_background": "light"
     },
     "output_type": "display_data"
    }
   ],
   "source": [
    "# Identify the number of business that have been identified as closed.\n",
    "subset = pd.DataFrame(business_data['is_open'].value_counts())\n",
    "xvalue = ['open', 'closed']\n",
    "_ = sns.barplot(x=xvalue, y='is_open', data=subset, color='royalblue')\n",
    "_ = plt.xlabel('open/closed')\n",
    "_ = plt.ylabel('number of business')\n",
    "_ = plt.title('Count of Businesses by Open and Closed')"
   ]
  },
  {
   "cell_type": "code",
   "execution_count": 9,
   "metadata": {},
   "outputs": [],
   "source": [
    "def find_categories(categories):\n",
    "    '''Determine the amount of unique categories in DataFrame'''\n",
    "    all_categories = list(categories)\n",
    "    category_list = []\n",
    "    for i in range(len(all_categories)):\n",
    "        if all_categories[i] is not None:\n",
    "            category = all_categories[i].split(', ')\n",
    "            for j in range(1):\n",
    "                category_list.append(category[j])\n",
    "    category_list = list(set(category_list))\n",
    "    print(len(category_list), 'categories')\n",
    "    print(category_list)\n",
    "    return category_list"
   ]
  },
  {
   "cell_type": "code",
   "execution_count": 10,
   "metadata": {},
   "outputs": [
    {
     "name": "stdout",
     "output_type": "stream",
     "text": [
      "1177 categories\n",
      "['Wedding Chapels', 'Arts & Crafts', 'Pizza', 'Dry Cleaning', 'Tapas/Small Plates', 'Bakeries', 'Lounges', 'Spin Classes', 'Walk-in Clinics', 'Business Financing', 'Honey', 'Macarons', 'Dance Clubs', 'Brazilian', 'New Mexican Cuisine', 'Indonesian', 'Fruits & Veggies', 'Acupuncture', 'Laotian', 'Saunas', 'Scandinavian', 'Leather Goods', 'Preventive Medicine', 'Guitar Stores', 'Foundation Repair', 'Language Schools', 'Television Stations', 'Orthodontists', 'Bike Shop', 'Tours', 'Airport Terminals', 'Home Inspectors', 'Title Loans', 'Dermatologists', 'College Counseling', 'Handyman', 'Professional Sports Teams', 'Hospice', 'Professional Services', 'Art Classes', 'International Grocery', 'Public Markets', 'Infectious Disease Specialists', 'Gift Shops', 'Wallpapering', 'Musical Instrument Services', 'Tapas Bars', 'Jewelry', 'Junk Removal & Hauling', 'Szechuan', 'Party Bike Rentals', 'IT Services & Computer Repair', 'Estheticians', 'Delicatessen', 'Metal Fabricators', 'Public Relations', 'Modern European', 'Sunglasses', 'Investing', 'Hot Pot', 'Airport Shuttles', 'Personal Shopping', 'Basketball Courts', 'Lactation Services', 'Campgrounds', 'Patisserie/Cake Shop', 'Urgent Care', 'IV Hydration', 'Cocktail Bars', 'Parking', 'Auto Electric Services', 'Trailer Rental', 'Water Heater Installation/Repair', 'Telecommunications', 'Music Venues', 'Patio Coverings', 'Employment Agencies', 'Adoption Services', 'Dentists', \"Children's Clothing\", 'Imported Food', 'Gold Buyers', 'Pet Services', 'Department Stores', 'Colombian', 'Drive-In Theater', 'Portuguese', 'Turkish', 'Gutter Services', 'Prosthetics', 'Lice Services', 'Movers', 'Pan Asian', 'Registration Services', 'Tiki Bars', 'Paint-Your-Own Pottery', 'Midwives', 'Shaved Ice', 'General Litigation', 'Farming Equipment', 'Country Clubs', 'South African', 'Food Delivery Services', 'Pool & Hot Tub Service', 'Airsoft', 'Beer Tours', 'Periodontists', 'Check Cashing/Pay-day Loans', 'Home Organization', 'Hydrotherapy', 'Wholesale Stores', 'Bed & Breakfast', 'Pet Groomers', 'Interior Design', 'Roof Inspectors', 'Motorcycle Repair', 'Matchmakers', 'Bridal', 'Religious Schools', 'Sledding', 'Photographers', 'Behavior Analysts', 'Health Insurance Offices', 'Elder Care Planning', 'Beach Equipment Rentals', 'Nudist', 'Physical Therapy', 'Gas Stations', 'Diving', 'Auction Houses', 'ATV Rentals/Tours', 'Self-defense Classes', 'Nightlife', 'Religious Organizations', 'Tanning Beds', 'Banks & Credit Unions', 'Beer Bar', 'Soup', 'Furniture Assembly', 'Yelp Events', 'Musical Instruments & Teachers', '3D Printing', 'Golf', 'Door Sales/Installation', 'Art Tours', 'Home Window Tinting', 'Windows Installation', 'Diagnostic Services', 'Bikes', 'Cryotherapy', 'Mexican', 'Chinese', 'Business Consulting', 'Vinyl Records', 'Office Cleaning', 'Neurotologists', 'Cantonese', 'Painters', 'Podiatrists', 'Holiday Decorations', 'Pakistani', 'Fitness/Exercise Equipment', 'Botanical Gardens', 'Homeopathic', 'Grilling Equipment', 'Endodontists', 'Virtual Reality Centers', 'Walking Tours', 'Cosmetic Surgeons', 'Hot Dogs', 'Sports Clubs', 'Sri Lankan', 'Public Art', 'Proctologists', 'Music & DVDs', 'Home Cleaning', 'Local Fish Stores', 'Marinas', 'Basque', 'Horse Equipment Shops', 'Pet Adoption', 'Car Share Services', 'Planetarium', 'Car Wash', 'Shipping Centers', 'Appraisal Services', 'Hakka', \"Men's Hair Salons\", 'Machine Shops', 'Brewing Supplies', 'Home Staging', 'Cabaret', 'Mobile Phone Repair', 'Cuban', 'Party Bus Rentals', 'Herbs & Spices', 'Limos', 'Noodles', 'Hawaiian', 'Smog Check Stations', 'Middle Eastern', 'Kosher', 'Karate', 'Auto Detailing', 'Sporting Goods', 'Empanadas', 'Psychics', 'Linens', 'Session Photography', 'Blow Dry/Out Services', 'Motorsport Vehicle Repairs', 'Photography Classes', 'Beaches', 'Cafes', 'Mattresses', 'Photography Stores & Services', 'Aquarium Services', 'Awnings', 'Auto Security', 'Czech/Slovakian', 'Flight Instruction', 'Auto Glass Services', 'Test Preparation', 'Home & Garden', 'Piercing', 'Outdoor Furniture Stores', 'Cannabis Dispensaries', 'Religious Items', 'Officiants', 'Neurologist', 'Commissioned Artists', 'Southern', 'Cooking Classes', 'Bangladeshi', 'Tableware', 'Falafel', 'Holistic Animal Care', 'Party Equipment Rentals', 'Livestock Feed & Supply', 'Moroccan', 'Nail Technicians', 'Spiritual Shop', 'Fur Clothing', 'Bookstores', 'Wildlife Control', 'Vape Shops', 'Maternity Wear', 'Personal Injury Law', 'Cards & Stationery', 'Swimming Pools', 'Laser Tag', 'Sugaring', 'Rheumatologists', 'Skate Parks', 'Dinner Theater', 'Mountain Biking', 'Gyms', 'Surgeons', 'Orthopedists', 'Knife Sharpening', 'Coffee & Tea', 'Home Decor', 'Videographers', 'Computers', 'Packing Services', 'Pet Breeders', 'Vehicle Shipping', 'Golf Equipment Shops', 'Framing', 'Blood & Plasma Donation Centers', 'Electronics', 'Sailing', 'Buses', 'Opera & Ballet', 'Guamanian', 'Bubble Tea', 'Rafting/Kayaking', 'Appliances & Repair', 'Desserts', 'Embroidery & Crochet', 'Safety Equipment', 'Unofficial Yelp Events', 'Mobile Dent Repair', 'Paint Stores', 'Sandwiches', 'Art Galleries', 'Pest Control', 'Home & Rental Insurance', 'Aquariums', 'Currency Exchange', 'Cycling Classes', 'Car Brokers', 'Trophy Shops', 'Tickets', 'Pressure Washers', 'Slovakian', 'Tax Law', 'Workers Compensation Law', 'Food Banks', 'Damage Restoration', 'Carpet Installation', 'Shoe Stores', 'Emergency Medicine', 'Speech Therapists', 'LAN Centers', 'Paintball', 'Reunion', 'Chiropractors', 'Estate Planning Law', 'Condominiums', 'Vegetarian', 'Watches', 'Process Servers', 'Motorsport Vehicle Dealers', 'Clowns', 'Ayurveda', 'Talent Agencies', 'Balloon Services', 'Skating Rinks', 'Boating', 'Special Education', 'Distilleries', 'Ziplining', 'Outdoor Gear', 'Tax Services', 'Health Coach', 'Free Diving', 'Archery', 'Syrian', 'Financial Services', 'Backflow Services', 'Carpenters', 'Wheel & Rim Repair', 'Software Development', 'Bus Tours', 'Chocolatiers & Shops', 'Business Law', 'Colonics', 'Irish Pub', 'Cafeteria', 'Adult', 'Payroll Services', 'Doulas', 'Dog Parks', 'Refinishing Services', 'Carpeting', 'Acne Treatment', 'Animal Assisted Therapy', 'Soba', 'Libraries', 'Weight Loss Centers', 'Pet Waste Removal', 'Drones', 'Pick Your Own Farms', 'Cardio Classes', 'TV Mounting', 'Print Media', 'Vietnamese', 'DIY Auto Shop', 'Coffee Roasteries', 'Recycling Center', 'Windshield Installation & Repair', 'Mass Media', 'Makeup Artists', 'Meditation Centers', \"Children's Museums\", 'Yoga', 'Product Design', 'Dumpster Rental', 'Placenta Encapsulations', 'Active Life', 'Cigar Bars', 'Crane Services', 'Local Flavor', 'Public Services & Government', 'Travel Agents', 'Event Photography', 'Packing Supplies', 'Spanish', 'Bookkeepers', 'Japanese Curry', 'Skydiving', 'Baseball Fields', 'Teeth Whitening', 'Outlet Stores', 'Heating & Air Conditioning/HVAC', 'Mediterranean', 'Truck Rental', 'Mobile Phone Accessories', 'Powder Coating', 'Retirement Homes', 'Montessori Schools', 'Vascular Medicine', 'Occupational Therapy', 'Pet Cremation Services', 'French', 'Glass & Mirrors', 'Pool Halls', 'Soul Food', 'Mediators', 'Horse Racing', 'Eyewear & Opticians', 'Sushi Bars', 'Car Buyers', 'Assisted Living Facilities', 'Afghan', 'Aestheticians', 'Childbirth Education', 'Halotherapy', 'Bubble Soccer', 'Pets', 'Bar Crawl', 'Live/Raw Food', 'Street Vendors', 'Tai Chi', 'Animal Physical Therapy', 'Cannabis Tours', 'Hair Removal', 'Kebab', 'Comic Books', 'Calligraphy', 'Tattoo Removal', 'Ethnic Food', 'Furniture Stores', 'Toy Stores', 'Water Stores', 'Hats', 'Donation Center', 'Private Investigation', 'Bookbinding', 'Home Services', 'Divorce & Family Law', 'Cardiologists', 'Audio/Visual Equipment Rental', 'Jet Skis', 'Race Tracks', 'Massage Schools', 'Radio Stations', 'Hair Salons', 'Paddleboarding', 'Health & Medical', 'Water Parks', 'Izakaya', 'Mobility Equipment Sales & Services', 'University Housing', 'Auto Customization', 'Souvenir Shops', 'Haunted Houses', 'Tacos', 'Reiki', 'Korean', 'Animal Shelters', 'Hiking', 'Police Departments', 'Gymnastics', 'Airports', 'Laser Hair Removal', 'Installment Loans', 'Car Dealers', 'Environmental Abatement', 'Car Inspectors', 'DUI Law', 'Keys & Locksmiths', 'Battery Stores', 'Bike Rentals', 'Real Estate Agents', 'Disc Golf', 'Couriers & Delivery Services', 'Backshop', 'Aircraft Repairs', 'Office Equipment', 'Pop-up Shops', 'Sports Bars', 'Psychiatrists', 'Internal Medicine', 'Nurse Practitioner', 'Immigration Law', 'Caricatures', 'Laser Eye Surgery/Lasik', 'Art Supplies', 'Cremation Services', 'Notaries', 'Custom Cakes', 'Rock Climbing', 'Pasta Shops', 'Piano Bars', 'Pet Sitting', 'Drugstores', 'Poke', 'Beer Gardens', 'Interlock Systems', 'Community Gardens', 'Used Bookstore', 'Haitian', 'Cheerleading', 'Generator Installation/Repair', 'Parenting Classes', 'Barbers', 'Commercial Truck Dealers', 'Parks', 'Barbeque', 'Auto Loan Providers', 'Popcorn Shops', 'Bird Shops', 'Laundry Services', 'Tutoring Centers', 'Hobby Shops', 'Tui Na', 'Cannabis Collective', 'Magicians', 'Hunting & Fishing Supplies', 'Beverage Store', 'Spine Surgeons', 'Art Space Rentals', 'Massage Therapy', 'Immunodermatologists', 'Cajun/Creole', 'RV Rental', 'Piano Stores', 'Permanent Makeup', 'Art Museums', 'Festivals', 'Circuit Training Gyms', 'Donuts', 'Party Supplies', 'Financial Advising', 'Personal Care Services', 'Solar Installation', 'Art Schools', 'Nursing Schools', 'Lighting Fixtures & Equipment', 'Event Planning & Services', 'Wedding Planning', 'Orthotics', 'Trampoline Parks', 'Screen Printing/T-Shirt Printing', 'Laundromat', 'RV Dealers', 'Cinema', 'Italian', 'Wigs', 'Fishing', 'Recording & Rehearsal Studios', 'Henna Artists', 'Car Rental', 'Gardeners', 'Asian Fusion', 'Arabian', 'Home Network Installation', 'Clock Repair', 'Real Estate', 'Tires', 'Golf Equipment', 'Ski Resorts', 'Childproofing', 'Ice Delivery', 'Pool Cleaners', 'Bail Bondsmen', 'Tubing', 'Resorts', 'Screen Printing', 'Engraving', 'Salvadoran', 'Hydro-jetting', 'Lighting Stores', 'Airport Lounges', 'Czech', 'Delis', 'Real Estate Services', 'Sleep Specialists', 'Skilled Nursing', 'Waffles', 'Wine Tasting Classes', 'Hostels', 'Storefront Clinics', 'Mobile Phones', 'Farm Equipment Repair', 'Spray Tanning', 'Hotels & Travel', 'Local Services', 'Shopping Centers', 'Emergency Rooms', 'Irish', 'Ski & Snowboard Shops', 'Countertop Installation', 'Siding', 'Ukrainian', 'Ethnic Grocery', 'Hypnosis/Hypnotherapy', 'Hearing Aid Providers', 'Plastic Surgeons', 'Zoos', 'Gerontologists', 'Cosmetics & Beauty Supply', 'Wineries', 'Career Counseling', 'Home Automation', 'Preschools', 'Mongolian', 'Shaved Snow', 'Post Offices', 'Lakes', 'Egyptian', 'Acai Bowls', 'Service Stations', 'Go Karts', 'Formal Wear', 'Halal', 'Erotic Massage', 'Dry Cleaning & Laundry', 'Flowers & Gifts', 'Self Storage', 'Tiling', 'Transportation', 'Pub Food', 'Hospitals', 'Pretzels', 'Flea Markets', 'Surf Shop', 'Trailer Dealers', 'Interval Training Gyms', 'Insulation Installation', 'Gastropubs', 'Concierge Medicine', 'Alternative Medicine', 'Furniture Reupholstery', 'Meat Shops', 'Diners', 'Wraps', 'House Sitters', 'Japanese', 'Land Surveying', 'Comfort Food', 'RV Parks', 'Leisure Centers', 'Auto Insurance', 'Lawn Services', 'Irrigation', 'Vacation Rentals', 'Ethical Grocery', 'Hookah Bars', 'Personal Chefs', 'Automotive', 'Mailbox Centers', 'Fireplace Services', 'Gluten-Free', 'Gun/Rifle Ranges', 'Pharmacy', 'Swiss Food', 'Pet Boarding', 'Fast Food', 'Data Recovery', 'Russian', 'Colleges & Universities', 'Laboratory Testing', 'Pubs', 'Architects', 'Shoe Repair', 'Golf Cart Rentals', 'Customized Merchandise', 'Obstetricians & Gynecologists', 'Plumbing', 'Shades & Blinds', 'Party & Event Planning', 'Vocational & Technical School', 'Tuscan', 'Bankruptcy Law', 'Bingo Halls', 'Electricians', 'Mortuary Services', 'Pet Stores', 'Rehabilitation Center', 'Prosthodontists', 'American (Traditional)', 'Pet Hospice', 'Drywall Installation & Repair', 'Rest Stops', 'Bistros', 'Vegan', 'Life Coach', 'Vitamins & Supplements', 'Insurance', 'Furniture Rental', 'Mortgage Brokers', 'Barre Classes', 'Airlines', 'Puerto Rican', 'Seafood', 'Pilates', 'Sports Wear', 'Bowling', 'Electronics Repair', 'Aerial Fitness', 'Rugs', 'Fire Departments', 'Himalayan/Nepalese', 'Community Service/Non-Profit', 'Hair Stylists', 'Nutritionists', 'Window Washing', 'Speakeasies', 'Fabric Stores', 'Kickboxing', 'Endocrinologists', 'Convenience Stores', 'Motorcycle Dealers', 'Health Markets', 'EV Charging Stations', 'Boxing', 'Dance Schools', 'Pet Photography', 'Mauritius', 'Body Shops', 'Excavation Services', 'Party Characters', 'International', 'Medical Law', 'Juice Bars & Smoothies', 'Dog Walkers', 'Food Court', 'Private Tutors', 'Building Supplies', 'Optometrists', 'Brasseries', 'Nail Salons', 'Brazilian Jiu-jitsu', 'Trains', 'Surfing', 'Sandblasting', 'Jazz & Blues', 'High Fidelity Audio Equipment', 'Dominican', 'Brewpubs', 'Home Developers', 'Property Management', 'Tex-Mex', 'Fitness & Instruction', 'Valet Services', 'Races & Competitions', 'Dim Sum', 'Museums', 'Legal Services', 'Skin Care', 'Utilities', 'Golf Cart Dealers', 'Nurseries & Gardening', 'Bounce House Rentals', 'CSA', 'Video/Film Production', 'Scavenger Hunts', 'Shredding Services', 'Caterers', 'Perfume', 'Astrologers', 'Venues & Event Spaces', 'Septic Services', 'Ticket Sales', 'Food Trucks', 'Beauty & Spas', 'Fashion', 'Sewing & Alterations', 'Uzbek', 'Organic Stores', 'Machine & Tool Rental', 'Playsets', 'Dive Shops', 'Salad', 'Food Stands', 'Bike Sharing', 'Shared Office Spaces', 'Boat Repair', 'Fences & Gates', 'Food Tours', 'Boat Charters', 'Photo Booth Rentals', 'Signmaking', 'Day Spas', 'Plus Size Fashion', 'Argentine', 'Child Care & Day Care', 'Chinese Martial Arts', 'Pediatric Dentists', 'Solar Panel Cleaning', 'Dental Hygienists', \"Women's Clothing\", 'Eyelash Service', 'Indoor Landscaping', 'Greek', 'Medical Spas', 'Mosques', 'Adult Education', 'Taiwanese', 'Real Estate Photography', 'Wine Tours', 'Eatertainment', 'Homeowner Association', 'Structural Engineers', 'Tobacco Shops', 'Used', 'Mobile Home Parks', 'Cideries', 'Vacation Rental Agents', 'Landscape Architects', 'Dietitians', 'Fertility', 'Muay Thai', 'Garage Door Services', 'Security Services', 'Cheese Shops', 'Float Spa', 'Cosmetology Schools', 'Christmas Trees', 'Paint & Sip', 'Music Production Services', 'Art Restoration', 'Cabinetry', 'Luggage', 'Commercial Real Estate', 'Diagnostic Imaging', 'Chicken Shop', 'Stucco Services', 'Car Stereo Installation', 'Used Car Dealers', 'Sugar Shacks', 'Whiskey Bars', 'Horse Boarding', 'Commercial Truck Repair', 'Community Centers', 'Boat Tours', 'Calabrian', 'Propane', 'Editorial Services', 'Creperies', 'Pop-Up Restaurants', 'Climbing', 'Contract Law', 'Soccer', 'Lingerie', 'Departments of Motor Vehicles', 'Antiques', 'Social Clubs', 'Shutters', 'Naturopathic/Holistic', 'Fondue', 'Demolition Services', 'Medical Transportation', 'Martial Arts', 'Playgrounds', 'Allergists', 'Vehicle Wraps', 'Hardware Stores', 'Indoor Playcentre', 'Transmission Repair', 'Shopping', 'Landscaping', 'Kids Activities', 'Gastroenterologist', 'Smokehouse', 'Gay Bars', 'Persian/Iranian', 'Burmese', 'Aircraft Dealers', 'German', 'Travel Services', 'Private Jet Charter', 'Fire Protection Services', 'Oral Surgeons', 'Advertising', 'Addiction Medicine', 'Shoe Shine', 'Educational Services', 'Poutineries', 'Audiologist', 'Internet Service Providers', 'Bicycles', 'Karaoke', 'Medical Supplies', 'Dance Studios', 'Beer', 'Hungarian', 'Emergency Pet Hospital', 'Boot Camps', 'Pulmonologist', 'Kids Hair Salons', 'Steakhouses', 'Scottish', 'Guns & Ammo', 'Scuba Diving', 'Firewood', 'Fencing Clubs', 'Indian', 'Restaurants', 'Discount Store', 'Osteopathic Physicians', 'Seafood Markets', 'Baby Gear & Furniture', 'Uniforms', 'Home Health Care', 'Bartending Schools', 'Fireworks', 'Waterproofing', 'Bus Rental', 'Roofing', 'Ophthalmologists', 'Swimwear', 'Thrift Stores', 'Waxing', 'Chicken Wings', 'Wine Tasting Room', 'Squash', 'British', 'Candle Stores', 'Teacher Supplies', 'Dance Wear', 'Traditional Chinese Medicine', 'Specialty Food', 'Aerial Tours', 'Restaurant Supplies', 'Massage', 'Churches', 'Marketing', 'Cultural Center', 'Coffeeshops', 'Watch Repair', 'Synagogues', 'Funeral Services & Cemeteries', 'Estate Liquidation', 'Web Design', 'Decks & Railing', 'Misting System Services', 'Kitchen & Bath', 'Debt Relief Services', 'Accountants', 'Internet Cafes', 'Lebanese', 'Oxygen Bars', 'First Aid Classes', 'Prenatal/Perinatal Care', 'Supper Clubs', 'Memory Care', 'Historical Tours', 'Courthouses', 'Bars', 'Visitor Centers', 'Psychic Mediums', 'Escape Games', 'Pawn Shops', 'Tea Rooms', 'Malaysian', 'Badminton', 'Peruvian', 'Grocery', 'Canadian (New)', 'DJs', 'Mobile Home Dealers', 'Ethiopian', 'Trivia Hosts', 'Cambodian', 'Cannabis Clinics', 'Snow Removal', 'Passport & Visa Services', 'Taxis', 'Videos & Video Game Rental', 'Masonry/Concrete', 'Butcher', 'Adult Entertainment', 'Cheesesteaks', 'Tennis', 'Supernatural Readings', 'Traffic Schools', 'Motorcycle Rental', 'Burgers', 'Attraction Farms', 'Traffic Ticketing Law', 'Herbal Shops', 'Safe Stores', 'Head Shops', 'Candy Stores', 'Casinos', 'Personal Assistants', 'Civic Center', 'Wine Bars', 'Taekwondo', 'Costumes', 'Skiing', 'Anesthesiologists', 'Team Building Activities', 'Ramen', 'Concept Shops', 'Car Window Tinting', 'Face Painting', 'Do-It-Yourself Food', 'Boat Dealers', 'Firearm Training', 'Breweries', 'Observatories', 'Middle Schools & High Schools', 'Graphic Design', 'Grout Services', 'Retina Specialists', 'Honduran', 'African', 'Motorcycle Gear', 'Teppanyaki', 'Psychologists', 'Feng Shui', 'Hydroponics', 'Fingerprinting', 'Wholesalers', 'Swimming Lessons/Schools', 'Newspapers & Magazines', 'Sports Medicine', 'Pain Management', 'Clothing Rental', 'Floral Designers', 'Bagels', 'Reflexology', 'Horseback Riding', 'Hazardous Waste Disposal', 'Landmarks & Historical Buildings', 'Amateur Sports Teams', 'Hotels', 'Knitting Supplies', 'CPR Classes', 'Pool & Billiards', 'Artificial Turf', 'Shanghainese', 'Coffee & Tea Supplies', 'Body Contouring', 'Criminal Defense Law', 'Embassy', 'Dive Bars', 'Hybrid Car Repair', 'Ear Nose & Throat', 'Florists', 'Medical Cannabis Referrals', 'Counseling & Mental Health', 'Auto Parts & Supplies', 'Nanny Services', 'Eyebrow Services', 'Television Service Providers', 'Flooring', 'Threading Services', 'Recreation Centers', 'Cooking Schools', 'Latin American', 'Mortgage Lenders', 'Health Retreats', 'Armenian', 'Chimney Sweeps', 'Accessories', 'Venezuelan', 'Social Security Law', 'Environmental Testing', 'Farmers Market', 'Piano Services', 'Tattoo', 'Books', 'RV Repair', 'Mini Golf', 'Tree Services', 'Sports Psychologists', 'Private Schools', 'Comedy Clubs', 'Tanning', 'Video Game Stores', 'Musicians', 'Home Theatre Installation', 'Town Car Service', 'Car Auctions', 'Printing Services', 'Filipino', 'Medical Centers', 'Challenge Courses', 'Breakfast & Brunch', 'Pet Training', 'Junkyards', 'Water Delivery', 'Skate Shops', 'Buddhist Temples', 'Pole Dancing Classes', 'Auto Upholstery', 'Veterinarians', 'Hot Air Balloons', 'Racing Experience', 'Flowers', 'Ski Schools', 'Hair Loss Centers', 'Fish & Chips', 'Auto Repair', 'Cosmetic Dentists', 'Oil Change Stations', 'Olive Oil', 'Wills', 'Real Estate Law', 'Donairs', 'Elementary Schools', 'Pet Transportation', 'Bartenders', 'Gemstones & Minerals', 'Conveyor Belt Sushi', 'Jewelry Repair', 'Hot Tub & Pool', 'Appliances', 'Roadside Assistance', 'Belgian', 'Bike Repair/Maintenance', 'Ultrasound Imaging Centers', 'Food', 'Translation Services', 'Day Camps', \"Men's Clothing\", 'Iberian', 'Polish', 'Lawyers', 'Hair Extensions', 'Reptile Shops', 'Trailer Repair', 'Gunsmith', 'American (New)', 'Carpet Cleaning', 'Driving Schools', 'Tabletop Games', 'Senior Centers', 'Pediatricians', 'Thai', 'Caribbean', 'Batting Cages', 'Axe Throwing', 'Train Stations', 'Australian', 'Hong Kong Style Cafe', 'Towing', 'Apartments', 'Water Purification Services', 'Bespoke Clothing', 'Trainers', 'Golf Lessons', 'Furniture Repair', 'Public Transportation', 'Champagne Bars', 'Doctors', 'Air Duct Cleaning', 'General Dentistry', 'Specialty Schools', 'Strip Clubs', 'Farms', 'Themed Cafes', 'Employment Law', 'Buffets', 'Austrian', 'Ice Cream & Frozen Yogurt', 'Home Energy Auditors', 'Guest Houses', 'Cupcakes', 'Life Insurance', 'Contractors', 'Family Practice', 'Oncologist', 'Hindu Temples', 'Summer Camps', 'Amusement Parks', 'Radiologists', 'Security Systems', 'Arcades', 'Rolfing', 'Court Reporters', 'Gelato', 'Education', 'Stadiums & Arenas', 'Sex Therapists', 'Arts & Entertainment', 'Performing Arts', 'Boudoir Photography', 'Urologists', 'Singaporean', 'Beach Bars']\n"
     ]
    }
   ],
   "source": [
    "# Determine unique number of categories\n",
    "category_list = find_categories(business_data['categories'])"
   ]
  },
  {
   "cell_type": "markdown",
   "metadata": {},
   "source": [
    "<h3><font color='blue'>Explore Checkin Data</font></h3>\n",
    "<p>Basic exploration of the data in the checkin.json file.</p>"
   ]
  },
  {
   "cell_type": "code",
   "execution_count": 11,
   "metadata": {},
   "outputs": [
    {
     "data": {
      "text/html": [
       "<div>\n",
       "<style scoped>\n",
       "    .dataframe tbody tr th:only-of-type {\n",
       "        vertical-align: middle;\n",
       "    }\n",
       "\n",
       "    .dataframe tbody tr th {\n",
       "        vertical-align: top;\n",
       "    }\n",
       "\n",
       "    .dataframe thead th {\n",
       "        text-align: right;\n",
       "    }\n",
       "</style>\n",
       "<table border=\"1\" class=\"dataframe\">\n",
       "  <thead>\n",
       "    <tr style=\"text-align: right;\">\n",
       "      <th></th>\n",
       "      <th>business_id</th>\n",
       "      <th>date</th>\n",
       "    </tr>\n",
       "  </thead>\n",
       "  <tbody>\n",
       "    <tr>\n",
       "      <td>0</td>\n",
       "      <td>--1UhMGODdWsrMastO9DZw</td>\n",
       "      <td>2016-04-26 19:49:16, 2016-08-30 18:36:57, 2016...</td>\n",
       "    </tr>\n",
       "    <tr>\n",
       "      <td>1</td>\n",
       "      <td>--6MefnULPED_I942VcFNA</td>\n",
       "      <td>2011-06-04 18:22:23, 2011-07-23 23:51:33, 2012...</td>\n",
       "    </tr>\n",
       "  </tbody>\n",
       "</table>\n",
       "</div>"
      ],
      "text/plain": [
       "              business_id                                               date\n",
       "0  --1UhMGODdWsrMastO9DZw  2016-04-26 19:49:16, 2016-08-30 18:36:57, 2016...\n",
       "1  --6MefnULPED_I942VcFNA  2011-06-04 18:22:23, 2011-07-23 23:51:33, 2012..."
      ]
     },
     "execution_count": 11,
     "metadata": {},
     "output_type": "execute_result"
    }
   ],
   "source": [
    "checkin_data.head(2)"
   ]
  },
  {
   "cell_type": "markdown",
   "metadata": {},
   "source": [
    "<h3><font color='blue'>Explore Photo Data</font></h3>\n",
    "<p>Basic exploration of the data in the photo.json file.</p>"
   ]
  },
  {
   "cell_type": "code",
   "execution_count": 12,
   "metadata": {},
   "outputs": [
    {
     "data": {
      "text/html": [
       "<div>\n",
       "<style scoped>\n",
       "    .dataframe tbody tr th:only-of-type {\n",
       "        vertical-align: middle;\n",
       "    }\n",
       "\n",
       "    .dataframe tbody tr th {\n",
       "        vertical-align: top;\n",
       "    }\n",
       "\n",
       "    .dataframe thead th {\n",
       "        text-align: right;\n",
       "    }\n",
       "</style>\n",
       "<table border=\"1\" class=\"dataframe\">\n",
       "  <thead>\n",
       "    <tr style=\"text-align: right;\">\n",
       "      <th></th>\n",
       "      <th>caption</th>\n",
       "      <th>photo_id</th>\n",
       "      <th>business_id</th>\n",
       "      <th>label</th>\n",
       "    </tr>\n",
       "  </thead>\n",
       "  <tbody>\n",
       "    <tr>\n",
       "      <td>0</td>\n",
       "      <td></td>\n",
       "      <td>MllA1nNpcp1kDteVg6OGUw</td>\n",
       "      <td>rcaPajgKOJC2vo_l3xa42A</td>\n",
       "      <td>inside</td>\n",
       "    </tr>\n",
       "    <tr>\n",
       "      <td>1</td>\n",
       "      <td></td>\n",
       "      <td>YjxBE88Bf6CmTEF2LP1UNA</td>\n",
       "      <td>Kn23LDd740SBVJ7mum0fwg</td>\n",
       "      <td>inside</td>\n",
       "    </tr>\n",
       "  </tbody>\n",
       "</table>\n",
       "</div>"
      ],
      "text/plain": [
       "  caption                photo_id             business_id   label\n",
       "0          MllA1nNpcp1kDteVg6OGUw  rcaPajgKOJC2vo_l3xa42A  inside\n",
       "1          YjxBE88Bf6CmTEF2LP1UNA  Kn23LDd740SBVJ7mum0fwg  inside"
      ]
     },
     "execution_count": 12,
     "metadata": {},
     "output_type": "execute_result"
    }
   ],
   "source": [
    "photo_data.head(2)"
   ]
  },
  {
   "cell_type": "markdown",
   "metadata": {},
   "source": [
    "<h3><font color='blue'>Explore Review Data<font></h3>\n",
    "<p>Basic exploration of the data in the review.json file.</p>"
   ]
  },
  {
   "cell_type": "code",
   "execution_count": 13,
   "metadata": {},
   "outputs": [
    {
     "data": {
      "text/html": [
       "<div>\n",
       "<style scoped>\n",
       "    .dataframe tbody tr th:only-of-type {\n",
       "        vertical-align: middle;\n",
       "    }\n",
       "\n",
       "    .dataframe tbody tr th {\n",
       "        vertical-align: top;\n",
       "    }\n",
       "\n",
       "    .dataframe thead th {\n",
       "        text-align: right;\n",
       "    }\n",
       "</style>\n",
       "<table border=\"1\" class=\"dataframe\">\n",
       "  <thead>\n",
       "    <tr style=\"text-align: right;\">\n",
       "      <th></th>\n",
       "      <th>review_id</th>\n",
       "      <th>user_id</th>\n",
       "      <th>business_id</th>\n",
       "      <th>stars</th>\n",
       "      <th>useful</th>\n",
       "      <th>funny</th>\n",
       "      <th>cool</th>\n",
       "      <th>date</th>\n",
       "    </tr>\n",
       "  </thead>\n",
       "  <tbody>\n",
       "    <tr>\n",
       "      <td>0</td>\n",
       "      <td>Q1sbwvVQXV2734tPgoKj4Q</td>\n",
       "      <td>hG7b0MtEbXx5QzbzE6C_VA</td>\n",
       "      <td>ujmEBvifdJM6h6RLv4wQIg</td>\n",
       "      <td>1</td>\n",
       "      <td>6</td>\n",
       "      <td>1</td>\n",
       "      <td>0</td>\n",
       "      <td>2013-05-07 04:34:36</td>\n",
       "    </tr>\n",
       "    <tr>\n",
       "      <td>1</td>\n",
       "      <td>GJXCdrto3ASJOqKeVWPi6Q</td>\n",
       "      <td>yXQM5uF2jS6es16SJzNHfg</td>\n",
       "      <td>NZnhc2sEQy3RmzKTZnqtwQ</td>\n",
       "      <td>5</td>\n",
       "      <td>0</td>\n",
       "      <td>0</td>\n",
       "      <td>0</td>\n",
       "      <td>2017-01-14 21:30:33</td>\n",
       "    </tr>\n",
       "  </tbody>\n",
       "</table>\n",
       "</div>"
      ],
      "text/plain": [
       "                review_id                 user_id             business_id  \\\n",
       "0  Q1sbwvVQXV2734tPgoKj4Q  hG7b0MtEbXx5QzbzE6C_VA  ujmEBvifdJM6h6RLv4wQIg   \n",
       "1  GJXCdrto3ASJOqKeVWPi6Q  yXQM5uF2jS6es16SJzNHfg  NZnhc2sEQy3RmzKTZnqtwQ   \n",
       "\n",
       "   stars  useful  funny  cool                date  \n",
       "0      1       6      1     0 2013-05-07 04:34:36  \n",
       "1      5       0      0     0 2017-01-14 21:30:33  "
      ]
     },
     "execution_count": 13,
     "metadata": {},
     "output_type": "execute_result"
    }
   ],
   "source": [
    "review_data.head(2)"
   ]
  },
  {
   "cell_type": "markdown",
   "metadata": {},
   "source": [
    "<h3><font color='blue'>Explore Tip Data</font></h3>\n",
    "<p>Basic exploration of the data in the tip.json file.</p>"
   ]
  },
  {
   "cell_type": "code",
   "execution_count": 14,
   "metadata": {},
   "outputs": [
    {
     "data": {
      "text/html": [
       "<div>\n",
       "<style scoped>\n",
       "    .dataframe tbody tr th:only-of-type {\n",
       "        vertical-align: middle;\n",
       "    }\n",
       "\n",
       "    .dataframe tbody tr th {\n",
       "        vertical-align: top;\n",
       "    }\n",
       "\n",
       "    .dataframe thead th {\n",
       "        text-align: right;\n",
       "    }\n",
       "</style>\n",
       "<table border=\"1\" class=\"dataframe\">\n",
       "  <thead>\n",
       "    <tr style=\"text-align: right;\">\n",
       "      <th></th>\n",
       "      <th>user_id</th>\n",
       "      <th>business_id</th>\n",
       "      <th>text</th>\n",
       "      <th>date</th>\n",
       "      <th>compliment_count</th>\n",
       "    </tr>\n",
       "  </thead>\n",
       "  <tbody>\n",
       "    <tr>\n",
       "      <td>0</td>\n",
       "      <td>UPw5DWs_b-e2JRBS-t37Ag</td>\n",
       "      <td>VaKXUpmWTTWDKbpJ3aQdMw</td>\n",
       "      <td>Great for watching games, ufc, and whatever el...</td>\n",
       "      <td>2014-03-27 03:51:24</td>\n",
       "      <td>0</td>\n",
       "    </tr>\n",
       "    <tr>\n",
       "      <td>1</td>\n",
       "      <td>Ocha4kZBHb4JK0lOWvE0sg</td>\n",
       "      <td>OPiPeoJiv92rENwbq76orA</td>\n",
       "      <td>Happy Hour 2-4 daily with 1/2 price drinks and...</td>\n",
       "      <td>2013-05-25 06:00:56</td>\n",
       "      <td>0</td>\n",
       "    </tr>\n",
       "  </tbody>\n",
       "</table>\n",
       "</div>"
      ],
      "text/plain": [
       "                  user_id             business_id  \\\n",
       "0  UPw5DWs_b-e2JRBS-t37Ag  VaKXUpmWTTWDKbpJ3aQdMw   \n",
       "1  Ocha4kZBHb4JK0lOWvE0sg  OPiPeoJiv92rENwbq76orA   \n",
       "\n",
       "                                                text                date  \\\n",
       "0  Great for watching games, ufc, and whatever el... 2014-03-27 03:51:24   \n",
       "1  Happy Hour 2-4 daily with 1/2 price drinks and... 2013-05-25 06:00:56   \n",
       "\n",
       "   compliment_count  \n",
       "0                 0  \n",
       "1                 0  "
      ]
     },
     "execution_count": 14,
     "metadata": {},
     "output_type": "execute_result"
    }
   ],
   "source": [
    "tip_data.head(2)"
   ]
  },
  {
   "cell_type": "markdown",
   "metadata": {},
   "source": [
    "<h3><font color='blue'>Explore User Data</font></h3>\n",
    "<p>Basic exploration of the data in the user.json file.</p>"
   ]
  },
  {
   "cell_type": "code",
   "execution_count": 15,
   "metadata": {},
   "outputs": [
    {
     "data": {
      "text/html": [
       "<div>\n",
       "<style scoped>\n",
       "    .dataframe tbody tr th:only-of-type {\n",
       "        vertical-align: middle;\n",
       "    }\n",
       "\n",
       "    .dataframe tbody tr th {\n",
       "        vertical-align: top;\n",
       "    }\n",
       "\n",
       "    .dataframe thead th {\n",
       "        text-align: right;\n",
       "    }\n",
       "</style>\n",
       "<table border=\"1\" class=\"dataframe\">\n",
       "  <thead>\n",
       "    <tr style=\"text-align: right;\">\n",
       "      <th></th>\n",
       "      <th>user_id</th>\n",
       "      <th>name</th>\n",
       "      <th>review_count</th>\n",
       "      <th>yelping_since</th>\n",
       "      <th>useful</th>\n",
       "      <th>funny</th>\n",
       "      <th>cool</th>\n",
       "      <th>elite</th>\n",
       "      <th>friends</th>\n",
       "      <th>fans</th>\n",
       "      <th>...</th>\n",
       "      <th>compliment_more</th>\n",
       "      <th>compliment_profile</th>\n",
       "      <th>compliment_cute</th>\n",
       "      <th>compliment_list</th>\n",
       "      <th>compliment_note</th>\n",
       "      <th>compliment_plain</th>\n",
       "      <th>compliment_cool</th>\n",
       "      <th>compliment_funny</th>\n",
       "      <th>compliment_writer</th>\n",
       "      <th>compliment_photos</th>\n",
       "    </tr>\n",
       "  </thead>\n",
       "  <tbody>\n",
       "    <tr>\n",
       "      <td>0</td>\n",
       "      <td>l6BmjZMeQD3rDxWUbiAiow</td>\n",
       "      <td>Rashmi</td>\n",
       "      <td>95</td>\n",
       "      <td>2013-10-08 23:11:33</td>\n",
       "      <td>84</td>\n",
       "      <td>17</td>\n",
       "      <td>25</td>\n",
       "      <td>2015,2016,2017</td>\n",
       "      <td>c78V-rj8NQcQjOI8KP3UEA, alRMgPcngYSCJ5naFRBz5g...</td>\n",
       "      <td>5</td>\n",
       "      <td>...</td>\n",
       "      <td>0</td>\n",
       "      <td>0</td>\n",
       "      <td>0</td>\n",
       "      <td>0</td>\n",
       "      <td>1</td>\n",
       "      <td>1</td>\n",
       "      <td>1</td>\n",
       "      <td>1</td>\n",
       "      <td>2</td>\n",
       "      <td>0</td>\n",
       "    </tr>\n",
       "    <tr>\n",
       "      <td>1</td>\n",
       "      <td>4XChL029mKr5hydo79Ljxg</td>\n",
       "      <td>Jenna</td>\n",
       "      <td>33</td>\n",
       "      <td>2013-02-21 22:29:06</td>\n",
       "      <td>48</td>\n",
       "      <td>22</td>\n",
       "      <td>16</td>\n",
       "      <td></td>\n",
       "      <td>kEBTgDvFX754S68FllfCaA, aB2DynOxNOJK9st2ZeGTPg...</td>\n",
       "      <td>4</td>\n",
       "      <td>...</td>\n",
       "      <td>0</td>\n",
       "      <td>0</td>\n",
       "      <td>0</td>\n",
       "      <td>0</td>\n",
       "      <td>0</td>\n",
       "      <td>0</td>\n",
       "      <td>1</td>\n",
       "      <td>1</td>\n",
       "      <td>0</td>\n",
       "      <td>0</td>\n",
       "    </tr>\n",
       "  </tbody>\n",
       "</table>\n",
       "<p>2 rows × 22 columns</p>\n",
       "</div>"
      ],
      "text/plain": [
       "                  user_id    name  review_count        yelping_since  useful  \\\n",
       "0  l6BmjZMeQD3rDxWUbiAiow  Rashmi            95  2013-10-08 23:11:33      84   \n",
       "1  4XChL029mKr5hydo79Ljxg   Jenna            33  2013-02-21 22:29:06      48   \n",
       "\n",
       "   funny  cool           elite  \\\n",
       "0     17    25  2015,2016,2017   \n",
       "1     22    16                   \n",
       "\n",
       "                                             friends  fans  ...  \\\n",
       "0  c78V-rj8NQcQjOI8KP3UEA, alRMgPcngYSCJ5naFRBz5g...     5  ...   \n",
       "1  kEBTgDvFX754S68FllfCaA, aB2DynOxNOJK9st2ZeGTPg...     4  ...   \n",
       "\n",
       "   compliment_more  compliment_profile  compliment_cute  compliment_list  \\\n",
       "0                0                   0                0                0   \n",
       "1                0                   0                0                0   \n",
       "\n",
       "   compliment_note  compliment_plain  compliment_cool  compliment_funny  \\\n",
       "0                1                 1                1                 1   \n",
       "1                0                 0                1                 1   \n",
       "\n",
       "   compliment_writer  compliment_photos  \n",
       "0                  2                  0  \n",
       "1                  0                  0  \n",
       "\n",
       "[2 rows x 22 columns]"
      ]
     },
     "execution_count": 15,
     "metadata": {},
     "output_type": "execute_result"
    }
   ],
   "source": [
    "user_data.head(2)"
   ]
  },
  {
   "cell_type": "code",
   "execution_count": null,
   "metadata": {},
   "outputs": [
    {
     "data": {
      "text/plain": [
       "count    1.637138e+06\n",
       "mean     2.228770e+01\n",
       "std      7.692236e+01\n",
       "min      0.000000e+00\n",
       "25%      2.000000e+00\n",
       "50%      5.000000e+00\n",
       "75%      1.500000e+01\n",
       "max      1.327800e+04\n",
       "Name: review_count, dtype: float64"
      ]
     },
     "execution_count": 16,
     "metadata": {},
     "output_type": "execute_result"
    }
   ],
   "source": [
    "# Descriptive statistics on number of review counts by users\n",
    "user_data['review_count'].describe()"
   ]
  },
  {
   "cell_type": "markdown",
   "metadata": {},
   "source": [
    "<h3><font color='blue'>Insights from Initial Exploration</font></h3>\n",
    "<ul>\n",
    "<li>Half of the data files (business.json, review.json, and user.json) contain information that would be pertinent in creating a recommendation system that looks to recommend restaurants based on users star ratings and similar users.\n",
    "<li>The recommendation system will focus only on restaurants and the categories column in the business_data DataFrame will need to be filtered for 'Restaurants' as a keyword.\n",
    "<li>The small portion of the restaurants that are closed, need to be removed from business_data.\n",
    "<li>There are 36 unique states represented in the dataset with the top 5 states by review count being Arizona, Nevada, Ontario, North Carolina, and Ohio.\n",
    "<li>The review_data DataFrame has a 'business_id' column that can be joined on the 'business_id' column in the business_data DataFrame in order to eliminate any reviews from business other than restaurants.\n",
    "</ul>"
   ]
  }
 ],
 "metadata": {
  "kernelspec": {
   "display_name": "Python 3",
   "language": "python",
   "name": "python3"
  },
  "language_info": {
   "codemirror_mode": {
    "name": "ipython",
    "version": 3
   },
   "file_extension": ".py",
   "mimetype": "text/x-python",
   "name": "python",
   "nbconvert_exporter": "python",
   "pygments_lexer": "ipython3",
   "version": "3.7.4"
  }
 },
 "nbformat": 4,
 "nbformat_minor": 2
}
